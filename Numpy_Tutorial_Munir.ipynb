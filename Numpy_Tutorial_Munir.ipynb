{
 "cells": [
  {
   "cell_type": "markdown",
   "id": "8e0aee15-aff4-421d-930f-024a36fda17c",
   "metadata": {},
   "source": [
    "#### Welcome to NumPy Tutorial By -Munir ####"
   ]
  },
  {
   "cell_type": "markdown",
   "id": "8dc25426-c5f8-4e77-a439-663387e39b5c",
   "metadata": {},
   "source": [
    "####   Installing Numpy Library to get started using Numpy ####"
   ]
  },
  {
   "cell_type": "code",
   "execution_count": 1,
   "id": "0af37eb5-c388-41b5-8a20-d5355d862517",
   "metadata": {},
   "outputs": [],
   "source": [
    "import numpy as np"
   ]
  },
  {
   "cell_type": "code",
   "execution_count": 2,
   "id": "caaec86f-f1c8-4dd0-80c9-0fc080698312",
   "metadata": {},
   "outputs": [
    {
     "name": "stdout",
     "output_type": "stream",
     "text": [
      "Hello this is our python Numpy Library\n"
     ]
    }
   ],
   "source": [
    "print(\"Hello this is our python Numpy Library\")"
   ]
  },
  {
   "cell_type": "markdown",
   "id": "7ac5e324-8d74-4245-bb63-db09d91479e0",
   "metadata": {},
   "source": [
    "### The Basics  ###"
   ]
  },
  {
   "cell_type": "code",
   "execution_count": 3,
   "id": "183fd058-b0f4-4a5c-96f3-6bd09bbd648c",
   "metadata": {},
   "outputs": [],
   "source": [
    "#creating an Numpy Array\n",
    "#To avoid writing functions manually type half words like ar then press tab it will open relevant functions like array() then hit enter\n",
    "\n",
    "# A 2-dimensional array has two corresponding axes: the first running vertically downwards across rows (axis 0),\n",
    "# and the second running horizontally across columns (axis 1).\n",
    "\n",
    "myarr = np.array([1,2,3,4])"
   ]
  },
  {
   "cell_type": "code",
   "execution_count": 4,
   "id": "790ae258-72c9-42ec-95a7-942d1c95d06c",
   "metadata": {},
   "outputs": [
    {
     "data": {
      "text/plain": [
       "array([1, 2, 3, 4])"
      ]
     },
     "execution_count": 4,
     "metadata": {},
     "output_type": "execute_result"
    }
   ],
   "source": [
    "#printing an Numpy Array\n",
    "myarr"
   ]
  },
  {
   "cell_type": "code",
   "execution_count": 5,
   "id": "c020d369-402e-4014-90ca-7f92c6a392e6",
   "metadata": {},
   "outputs": [
    {
     "data": {
      "text/plain": [
       "2"
      ]
     },
     "execution_count": 5,
     "metadata": {},
     "output_type": "execute_result"
    }
   ],
   "source": [
    "#Accessing element in a array indexes start from 0 to onwards\n",
    "myarr[1]"
   ]
  },
  {
   "cell_type": "code",
   "execution_count": 6,
   "id": "c50efafc-281e-4886-9d0b-39efd950d28d",
   "metadata": {},
   "outputs": [],
   "source": [
    "#Specifying data type to use array efficently\n",
    "newarr =  np.array([1,2,3], np.int8 )"
   ]
  },
  {
   "cell_type": "code",
   "execution_count": 7,
   "id": "773b0840-3bfb-4fdd-8e3c-b78f68664b98",
   "metadata": {},
   "outputs": [
    {
     "data": {
      "text/plain": [
       "array([1, 2, 3], dtype=int8)"
      ]
     },
     "execution_count": 7,
     "metadata": {},
     "output_type": "execute_result"
    }
   ],
   "source": [
    "newarr"
   ]
  },
  {
   "cell_type": "code",
   "execution_count": 8,
   "id": "f6bf2edd-2617-4a0e-8864-337316e964a7",
   "metadata": {},
   "outputs": [
    {
     "name": "stdout",
     "output_type": "stream",
     "text": [
      "[[ 1  2  7  2]\n",
      " [ 4  3 10  2]]\n"
     ]
    }
   ],
   "source": [
    "#Creating a 2D Array\n",
    "arr2d = np.array([[1.0,2.4,7.3,2.5],[4.7, 3.9, 10.23, 2.3]], np.int16)\n",
    "print(arr2d)"
   ]
  },
  {
   "cell_type": "code",
   "execution_count": 9,
   "id": "95a78d4f-7305-4c26-9754-eeaf916925ca",
   "metadata": {},
   "outputs": [
    {
     "data": {
      "text/plain": [
       "1"
      ]
     },
     "execution_count": 9,
     "metadata": {},
     "output_type": "execute_result"
    }
   ],
   "source": [
    "#Get Dimension of Array\n",
    "newarr.ndim"
   ]
  },
  {
   "cell_type": "code",
   "execution_count": 10,
   "id": "c3d5a478-0339-4a33-8f5b-da4b793789cb",
   "metadata": {},
   "outputs": [
    {
     "data": {
      "text/plain": [
       "2"
      ]
     },
     "execution_count": 10,
     "metadata": {},
     "output_type": "execute_result"
    }
   ],
   "source": [
    "arr2d.ndim"
   ]
  },
  {
   "cell_type": "code",
   "execution_count": 11,
   "id": "f8b04103-79d3-4269-a13b-da4f7ed83dba",
   "metadata": {},
   "outputs": [
    {
     "data": {
      "text/plain": [
       "(2, 4)"
      ]
     },
     "execution_count": 11,
     "metadata": {},
     "output_type": "execute_result"
    }
   ],
   "source": [
    "#Get shape of Array(row, column)\n",
    "arr2d.shape"
   ]
  },
  {
   "cell_type": "code",
   "execution_count": 12,
   "id": "bce49f50-52db-4f6d-8c16-84dee0df0963",
   "metadata": {},
   "outputs": [
    {
     "data": {
      "text/plain": [
       "dtype('int16')"
      ]
     },
     "execution_count": 12,
     "metadata": {},
     "output_type": "execute_result"
    }
   ],
   "source": [
    "#Get type of an array\n",
    "arr2d.dtype"
   ]
  },
  {
   "cell_type": "code",
   "execution_count": 13,
   "id": "0581057e-3fd4-42c6-8cde-7fbf52445ecc",
   "metadata": {},
   "outputs": [
    {
     "data": {
      "text/plain": [
       "2"
      ]
     },
     "execution_count": 13,
     "metadata": {},
     "output_type": "execute_result"
    }
   ],
   "source": [
    "#Returns size of an array in bytes(int16 = 8+8 bites in total)\n",
    "arr2d.itemsize"
   ]
  },
  {
   "cell_type": "code",
   "execution_count": 14,
   "id": "af8718f0-9b88-4e9f-bbce-bfd2eed356b3",
   "metadata": {},
   "outputs": [
    {
     "data": {
      "text/plain": [
       "16"
      ]
     },
     "execution_count": 14,
     "metadata": {},
     "output_type": "execute_result"
    }
   ],
   "source": [
    "#Get total size \n",
    "arr2d.nbytes"
   ]
  },
  {
   "cell_type": "markdown",
   "id": "013b717e-e6ec-4981-962f-501ef7534e91",
   "metadata": {},
   "source": [
    "### Accessing/Changing specific elements/rows/columns, etc ###"
   ]
  },
  {
   "cell_type": "code",
   "execution_count": 15,
   "id": "02893c61-6561-46d4-aa86-6847655db78f",
   "metadata": {},
   "outputs": [
    {
     "name": "stdout",
     "output_type": "stream",
     "text": [
      "[[ 1  2  3  4  5  6  7]\n",
      " [ 8  9 10 11 12 13 14]]\n"
     ]
    }
   ],
   "source": [
    "a = np.array([[1,2,3,4,5,6,7], [8,9,10,11,12,13,14]])\n",
    "print(a)"
   ]
  },
  {
   "cell_type": "code",
   "execution_count": 16,
   "id": "9353c001-f091-4f47-abec-11610043279a",
   "metadata": {},
   "outputs": [
    {
     "data": {
      "text/plain": [
       "(2, 7)"
      ]
     },
     "execution_count": 16,
     "metadata": {},
     "output_type": "execute_result"
    }
   ],
   "source": [
    "a.shape"
   ]
  },
  {
   "cell_type": "code",
   "execution_count": 17,
   "id": "881d3d2a-be65-4469-a051-d4393ddc92cf",
   "metadata": {},
   "outputs": [
    {
     "data": {
      "text/plain": [
       "13"
      ]
     },
     "execution_count": 17,
     "metadata": {},
     "output_type": "execute_result"
    }
   ],
   "source": [
    "#Get specific Element (r,c) (indexing is from 0 to onwards)\n",
    "a[1,5]\n"
   ]
  },
  {
   "cell_type": "code",
   "execution_count": 18,
   "id": "bceeba48-e005-4dc5-85cc-c48889f46ea7",
   "metadata": {},
   "outputs": [
    {
     "data": {
      "text/plain": [
       "13"
      ]
     },
     "execution_count": 18,
     "metadata": {},
     "output_type": "execute_result"
    }
   ],
   "source": [
    "#We can also use -ve values to access values\n",
    "a[1,-2]"
   ]
  },
  {
   "cell_type": "code",
   "execution_count": 19,
   "id": "1579a390-725c-422b-891e-158791cf9db4",
   "metadata": {},
   "outputs": [
    {
     "data": {
      "text/plain": [
       "array([1, 2, 3, 4, 5, 6, 7])"
      ]
     },
     "execution_count": 19,
     "metadata": {},
     "output_type": "execute_result"
    }
   ],
   "source": [
    "#Get a specific row (0= row , : means all columns)\n",
    "a[0, :]"
   ]
  },
  {
   "cell_type": "code",
   "execution_count": 20,
   "id": "c85fd984-d625-4c54-b68f-5dad350993cb",
   "metadata": {},
   "outputs": [
    {
     "data": {
      "text/plain": [
       "array([ 3, 10])"
      ]
     },
     "execution_count": 20,
     "metadata": {},
     "output_type": "execute_result"
    }
   ],
   "source": [
    "#Get a specific column (: means all the rows , 2nd column)\n",
    "a[: , 2]"
   ]
  },
  {
   "cell_type": "code",
   "execution_count": 21,
   "id": "5a658cec-f5bb-44da-8650-3752b3b92916",
   "metadata": {},
   "outputs": [
    {
     "data": {
      "text/plain": [
       "array([2, 4, 6])"
      ]
     },
     "execution_count": 21,
     "metadata": {},
     "output_type": "execute_result"
    }
   ],
   "source": [
    "#More Advance stuff (startindex:endindex:stepsize) (0= row, 1:6:2 means select 1 to 6th column (6th col excluded) and setpsize by 2 )\n",
    "a[0, 1:6:2]"
   ]
  },
  {
   "cell_type": "code",
   "execution_count": 22,
   "id": "9b894e84-1ae2-44ed-9bca-a4b35f150ea9",
   "metadata": {},
   "outputs": [
    {
     "data": {
      "text/plain": [
       "array([2, 4, 6])"
      ]
     },
     "execution_count": 22,
     "metadata": {},
     "output_type": "execute_result"
    }
   ],
   "source": [
    "a[0, 1:-1:2]"
   ]
  },
  {
   "cell_type": "code",
   "execution_count": 23,
   "id": "a2888bf3-f3d7-43b8-bc89-4921744bd6d7",
   "metadata": {},
   "outputs": [],
   "source": [
    "#Changing an element (element at 2nd row and 6th col was changed to 26)\n",
    "a[1,-3] = 26"
   ]
  },
  {
   "cell_type": "code",
   "execution_count": 24,
   "id": "75197efd-8b4e-4fc5-873c-76783391610b",
   "metadata": {},
   "outputs": [
    {
     "data": {
      "text/plain": [
       "array([[ 1,  2,  3,  4,  5,  6,  7],\n",
       "       [ 8,  9, 10, 11, 26, 13, 14]])"
      ]
     },
     "execution_count": 24,
     "metadata": {},
     "output_type": "execute_result"
    }
   ],
   "source": [
    "a"
   ]
  },
  {
   "cell_type": "code",
   "execution_count": 25,
   "id": "bc1e7013-968e-437d-9c34-211ce53e9aa7",
   "metadata": {},
   "outputs": [
    {
     "name": "stdout",
     "output_type": "stream",
     "text": [
      "[[ 1  2  5  4  5  6  7]\n",
      " [ 8  9  5 11 26 13 14]]\n"
     ]
    }
   ],
   "source": [
    "#Changing whole column\n",
    "a[:, 2] = 5\n",
    "print(a)"
   ]
  },
  {
   "cell_type": "code",
   "execution_count": 26,
   "id": "7b954187-55d1-4557-a980-79b3d22e3869",
   "metadata": {},
   "outputs": [
    {
     "name": "stdout",
     "output_type": "stream",
     "text": [
      "[[ 1  2  1  4  5  6  7]\n",
      " [ 8  9  2 11 26 13 14]]\n"
     ]
    }
   ],
   "source": [
    "#Replacing both values of column\n",
    "a[:,2] = [1,2]\n",
    "print(a)"
   ]
  },
  {
   "cell_type": "code",
   "execution_count": 27,
   "id": "62269fc6-c29c-40e2-8284-3f88686fecec",
   "metadata": {},
   "outputs": [
    {
     "name": "stdout",
     "output_type": "stream",
     "text": [
      "[[1 2 1 4 5 6 7]\n",
      " [1 1 1 1 1 1 1]]\n"
     ]
    }
   ],
   "source": [
    "#Changing whole row\n",
    "a[1,:] = 1\n",
    "print(a)"
   ]
  },
  {
   "cell_type": "markdown",
   "id": "ff645069-bd28-475c-acd1-1524a81ca77a",
   "metadata": {},
   "source": [
    "### 3D Array Example ###"
   ]
  },
  {
   "cell_type": "code",
   "execution_count": 28,
   "id": "f4b9b682-d709-40b7-8219-35144be550b7",
   "metadata": {},
   "outputs": [
    {
     "name": "stdout",
     "output_type": "stream",
     "text": [
      "[[[1 2]\n",
      "  [3 4]\n",
      "  [5 6]\n",
      "  [7 8]]]\n"
     ]
    }
   ],
   "source": [
    "b = np.array([[[1,2],[3,4],[5,6],[7,8]]])\n",
    "print(b)"
   ]
  },
  {
   "cell_type": "code",
   "execution_count": 29,
   "id": "cf24497b-47ea-4e70-b119-0da0f593d520",
   "metadata": {},
   "outputs": [
    {
     "data": {
      "text/plain": [
       "4"
      ]
     },
     "execution_count": 29,
     "metadata": {},
     "output_type": "execute_result"
    }
   ],
   "source": [
    "#Get specific elemnet (approach -work outside in) (0 means outside, 1 means second row, 1 means second column)\n",
    "b[0,1,1]"
   ]
  },
  {
   "cell_type": "code",
   "execution_count": 30,
   "id": "7b2755ef-1a5e-4a49-a5ad-7376420b9a5f",
   "metadata": {},
   "outputs": [
    {
     "data": {
      "text/plain": [
       "5"
      ]
     },
     "execution_count": 30,
     "metadata": {},
     "output_type": "execute_result"
    }
   ],
   "source": [
    "b[0,2,0]"
   ]
  },
  {
   "cell_type": "code",
   "execution_count": 31,
   "id": "43067f94-c334-4f2e-8e5b-a27d3110e865",
   "metadata": {},
   "outputs": [
    {
     "data": {
      "text/plain": [
       "8"
      ]
     },
     "execution_count": 31,
     "metadata": {},
     "output_type": "execute_result"
    }
   ],
   "source": [
    "b[0,3,1]"
   ]
  },
  {
   "cell_type": "code",
   "execution_count": 32,
   "id": "31d0f268-d1f7-4917-ba39-68539619afe7",
   "metadata": {},
   "outputs": [],
   "source": [
    "#Create a 3d Array a (2x2x2) cube\n",
    "cube = np.array([\n",
    "    \n",
    "[\n",
    "    [1,2],\n",
    "    [3,4]\n",
    "\n",
    "],\n",
    "                \n",
    "[\n",
    "    [5,6],\n",
    "    [7,8]\n",
    "\n",
    "]    \n",
    "    \n",
    "])"
   ]
  },
  {
   "cell_type": "code",
   "execution_count": 33,
   "id": "ea82ad3b-0d72-4442-8835-faffc7fc0a53",
   "metadata": {},
   "outputs": [],
   "source": [
    "#Trick to access elements in a 3d Array\n",
    "\n",
    "# Axis 0: This is the outermost dimension, representing different \"slices\" of the cube. In our example, it has a size of 2 because there are two slices of the cube (the two 2x2 grids).\n",
    "# Axis 1: This represents the rows within each slice. It also has a size of 2 because each slice contains two rows.\n",
    "# Axis 2: This represents the columns within each row. Again, it has a size of 2 because each row has two columns.\n",
    "\n",
    "# cube[0, 0, 0]: This accesses the element in the first slice, first row, first column, which is 1.\n",
    "# cube[0, 1, 1]: This accesses the element in the first slice, second row, second column, which is 4.\n",
    "# cube[1, 0, 1]: This accesses the element in the second slice, first row, second column, which is 6.\n"
   ]
  },
  {
   "cell_type": "code",
   "execution_count": 34,
   "id": "530b4c10-8cce-4092-b1c6-3f9b9c8992b7",
   "metadata": {},
   "outputs": [
    {
     "data": {
      "text/plain": [
       "7"
      ]
     },
     "execution_count": 34,
     "metadata": {},
     "output_type": "execute_result"
    }
   ],
   "source": [
    "cube[1,1,0] #second slice, second row and first column"
   ]
  },
  {
   "cell_type": "markdown",
   "id": "6b3e0f9c-31d8-453c-9e2f-50319248bccb",
   "metadata": {},
   "source": [
    "### Initializing Different types of Array "
   ]
  },
  {
   "cell_type": "code",
   "execution_count": 35,
   "id": "4e000470-e8ce-4190-9d3d-3a2d4efc716a",
   "metadata": {},
   "outputs": [
    {
     "data": {
      "text/plain": [
       "array([[0., 0., 0.],\n",
       "       [0., 0., 0.]])"
      ]
     },
     "execution_count": 35,
     "metadata": {},
     "output_type": "execute_result"
    }
   ],
   "source": [
    "#All 0s matrix\n",
    "np.zeros((2,3)) #returns a 2x3 2d matrix"
   ]
  },
  {
   "cell_type": "code",
   "execution_count": 36,
   "id": "8bbcad93-feab-4b19-92e8-23d60f3c594d",
   "metadata": {},
   "outputs": [
    {
     "data": {
      "text/plain": [
       "array([[[0., 0., 0.],\n",
       "        [0., 0., 0.]],\n",
       "\n",
       "       [[0., 0., 0.],\n",
       "        [0., 0., 0.]],\n",
       "\n",
       "       [[0., 0., 0.],\n",
       "        [0., 0., 0.]]])"
      ]
     },
     "execution_count": 36,
     "metadata": {},
     "output_type": "execute_result"
    }
   ],
   "source": [
    "np.zeros((3,2,3)) #3 slice, each slice has 2 rows and each row has 3 columns"
   ]
  },
  {
   "cell_type": "code",
   "execution_count": 37,
   "id": "f03ecc38-83c5-4067-8c77-1152ecbc140d",
   "metadata": {},
   "outputs": [
    {
     "data": {
      "text/plain": [
       "array([1., 1., 1., 1., 1.])"
      ]
     },
     "execution_count": 37,
     "metadata": {},
     "output_type": "execute_result"
    }
   ],
   "source": [
    "#All ones matrix\n",
    "np.ones(5)"
   ]
  },
  {
   "cell_type": "code",
   "execution_count": 38,
   "id": "7374ce03-7263-4ced-8c56-85a4b345e9d5",
   "metadata": {},
   "outputs": [
    {
     "data": {
      "text/plain": [
       "array([[108., 108.],\n",
       "       [108., 108.]], dtype=float32)"
      ]
     },
     "execution_count": 38,
     "metadata": {},
     "output_type": "execute_result"
    }
   ],
   "source": [
    "#Any other Number (parameters are shape(rxc) and value)\n",
    "np.full((2,2),108,dtype='float32')"
   ]
  },
  {
   "cell_type": "code",
   "execution_count": 39,
   "id": "ced410ae-fdb6-4099-885c-c0478aa78f61",
   "metadata": {},
   "outputs": [
    {
     "data": {
      "text/plain": [
       "array([[[5, 5],\n",
       "        [5, 5]],\n",
       "\n",
       "       [[5, 5],\n",
       "        [5, 5]]])"
      ]
     },
     "execution_count": 39,
     "metadata": {},
     "output_type": "execute_result"
    }
   ],
   "source": [
    "#Any other number full_like (resuing existing array and replacing with new value)\n",
    "np.full_like(cube,5)"
   ]
  },
  {
   "cell_type": "code",
   "execution_count": 40,
   "id": "7bd2d35e-1628-47c2-84d9-c2dcea2a3274",
   "metadata": {},
   "outputs": [
    {
     "data": {
      "text/plain": [
       "array([[0.91714972, 0.95013919],\n",
       "       [0.9263982 , 0.56838091],\n",
       "       [0.15403796, 0.39116546],\n",
       "       [0.57459652, 0.13308901]])"
      ]
     },
     "execution_count": 40,
     "metadata": {},
     "output_type": "execute_result"
    }
   ],
   "source": [
    "#Random Decimal Numbers (parameter is rxc)\n",
    "np.random.rand(4,2)"
   ]
  },
  {
   "cell_type": "code",
   "execution_count": 41,
   "id": "0bfb69c1-1387-4a2e-b625-0bbedeba938a",
   "metadata": {},
   "outputs": [
    {
     "data": {
      "text/plain": [
       "array([[[0.32825147, 0.51294075],\n",
       "        [0.21293344, 0.9535846 ]],\n",
       "\n",
       "       [[0.84186564, 0.84960264],\n",
       "        [0.10976402, 0.95959929]]])"
      ]
     },
     "execution_count": 41,
     "metadata": {},
     "output_type": "execute_result"
    }
   ],
   "source": [
    "np.random.random_sample(cube.shape) #same as full_like"
   ]
  },
  {
   "cell_type": "code",
   "execution_count": 42,
   "id": "300b118a-3d00-49c9-b815-6550e858e298",
   "metadata": {},
   "outputs": [
    {
     "data": {
      "text/plain": [
       "array([[1, 1, 6],\n",
       "       [4, 4, 1],\n",
       "       [5, 2, 5]])"
      ]
     },
     "execution_count": 42,
     "metadata": {},
     "output_type": "execute_result"
    }
   ],
   "source": [
    "#Random integer values (numbers only between 0 to 7(7 is exclusive)) \n",
    "np.random.randint(7, size=(3,3))"
   ]
  },
  {
   "cell_type": "code",
   "execution_count": 43,
   "id": "cc5c7728-8d2a-45b1-8b80-761fcc126554",
   "metadata": {},
   "outputs": [
    {
     "data": {
      "text/plain": [
       "array([[5, 6, 4],\n",
       "       [4, 4, 6],\n",
       "       [4, 6, 5]])"
      ]
     },
     "execution_count": 43,
     "metadata": {},
     "output_type": "execute_result"
    }
   ],
   "source": [
    "np.random.randint(4,7, size=(3,3))"
   ]
  },
  {
   "cell_type": "code",
   "execution_count": 44,
   "id": "ec38170b-3ccc-4fea-bd4f-1794a78e5b33",
   "metadata": {},
   "outputs": [
    {
     "data": {
      "text/plain": [
       "array([[1., 0., 0.],\n",
       "       [0., 1., 0.],\n",
       "       [0., 0., 1.]])"
      ]
     },
     "execution_count": 44,
     "metadata": {},
     "output_type": "execute_result"
    }
   ],
   "source": [
    "#Identity Matrix (1s at diagonal position)\n",
    "np.identity(3)"
   ]
  },
  {
   "cell_type": "code",
   "execution_count": 45,
   "id": "d1f9616e-68b5-4139-80f0-62900adaa126",
   "metadata": {},
   "outputs": [
    {
     "name": "stdout",
     "output_type": "stream",
     "text": [
      "[[1 2 3]\n",
      " [1 2 3]\n",
      " [1 2 3]]\n"
     ]
    }
   ],
   "source": [
    "#repeats an array in new array (parameters are array to repeat,num of times to repeat, axis)\n",
    "arr = np.array([[1,2,3]])\n",
    "r1 = np.repeat(arr,3,axis=0)\n",
    "print(r1)"
   ]
  },
  {
   "cell_type": "code",
   "execution_count": 46,
   "id": "125df3c1-2e42-4299-92f0-0b2a3f3737f6",
   "metadata": {},
   "outputs": [
    {
     "name": "stdout",
     "output_type": "stream",
     "text": [
      "[[1. 1. 1. 1. 1.]\n",
      " [1. 1. 1. 1. 1.]\n",
      " [1. 1. 1. 1. 1.]\n",
      " [1. 1. 1. 1. 1.]\n",
      " [1. 1. 1. 1. 1.]]\n"
     ]
    }
   ],
   "source": [
    "test = np.ones((5,5))\n",
    "print(test)"
   ]
  },
  {
   "cell_type": "code",
   "execution_count": 47,
   "id": "9349c08a-56e2-4753-a541-348746c8ad0c",
   "metadata": {},
   "outputs": [
    {
     "name": "stdout",
     "output_type": "stream",
     "text": [
      "[[0. 0. 0.]\n",
      " [0. 9. 0.]\n",
      " [0. 0. 0.]]\n"
     ]
    }
   ],
   "source": [
    "z =  np.zeros((3,3))\n",
    "z[1,1] = 9\n",
    "print(z)"
   ]
  },
  {
   "cell_type": "code",
   "execution_count": 48,
   "id": "e16df732-4b43-4c63-9fb5-edcd68261929",
   "metadata": {},
   "outputs": [
    {
     "name": "stdout",
     "output_type": "stream",
     "text": [
      "[[1. 1. 1. 1. 1.]\n",
      " [1. 0. 0. 0. 1.]\n",
      " [1. 0. 9. 0. 1.]\n",
      " [1. 0. 0. 0. 1.]\n",
      " [1. 1. 1. 1. 1.]]\n"
     ]
    }
   ],
   "source": [
    "test[1:4,1:4] = z #(1:4 means 1 to 4 rows (4 is excluded) and 1 to 4 means columns selected but 4 is ecluded)\n",
    "print(test)"
   ]
  },
  {
   "cell_type": "code",
   "execution_count": 49,
   "id": "a3dc4cf7-b25a-4e20-9b14-e222a6f04a0d",
   "metadata": {},
   "outputs": [
    {
     "name": "stdout",
     "output_type": "stream",
     "text": [
      "[100   2   3]\n"
     ]
    }
   ],
   "source": [
    "#Copying an array\n",
    "cp = np.array([1,2,3])\n",
    "b = cp.copy()\n",
    "b[0] = 100\n",
    "print(b)"
   ]
  },
  {
   "cell_type": "markdown",
   "id": "2f14861d-2fa6-43f9-920f-a67c84a861e2",
   "metadata": {},
   "source": [
    "### Mathematics ###"
   ]
  },
  {
   "cell_type": "code",
   "execution_count": 50,
   "id": "04de8ee0-700f-4547-8a0e-d029803728a6",
   "metadata": {},
   "outputs": [
    {
     "name": "stdout",
     "output_type": "stream",
     "text": [
      "[5 2 4 2]\n"
     ]
    }
   ],
   "source": [
    "#Element wise add,sub,mult,div,pow\n",
    "a = np.array([5,2,4,2])\n",
    "print(a)"
   ]
  },
  {
   "cell_type": "code",
   "execution_count": 51,
   "id": "48d58b6a-10ed-4952-a69e-46d71b5e1146",
   "metadata": {},
   "outputs": [
    {
     "data": {
      "text/plain": [
       "array([7, 4, 6, 4])"
      ]
     },
     "execution_count": 51,
     "metadata": {},
     "output_type": "execute_result"
    }
   ],
   "source": [
    "a+2"
   ]
  },
  {
   "cell_type": "code",
   "execution_count": 52,
   "id": "a65078cf-a18f-4595-88ee-bcec04f53136",
   "metadata": {},
   "outputs": [
    {
     "data": {
      "text/plain": [
       "array([3, 0, 2, 0])"
      ]
     },
     "execution_count": 52,
     "metadata": {},
     "output_type": "execute_result"
    }
   ],
   "source": [
    "a-2"
   ]
  },
  {
   "cell_type": "code",
   "execution_count": 53,
   "id": "54f6c31b-fa3f-40e5-9c0f-4044e68b41e9",
   "metadata": {},
   "outputs": [
    {
     "data": {
      "text/plain": [
       "array([10,  4,  8,  4])"
      ]
     },
     "execution_count": 53,
     "metadata": {},
     "output_type": "execute_result"
    }
   ],
   "source": [
    "a*2"
   ]
  },
  {
   "cell_type": "code",
   "execution_count": 54,
   "id": "fbc00a0f-ad94-47b5-b2d4-d661dc3856de",
   "metadata": {},
   "outputs": [
    {
     "data": {
      "text/plain": [
       "array([2.5, 1. , 2. , 1. ])"
      ]
     },
     "execution_count": 54,
     "metadata": {},
     "output_type": "execute_result"
    }
   ],
   "source": [
    "a/2"
   ]
  },
  {
   "cell_type": "code",
   "execution_count": 55,
   "id": "d809ba54-2921-4e3f-a326-cd27504c5f94",
   "metadata": {},
   "outputs": [
    {
     "data": {
      "text/plain": [
       "array([6, 2, 5, 2])"
      ]
     },
     "execution_count": 55,
     "metadata": {},
     "output_type": "execute_result"
    }
   ],
   "source": [
    "b = np.array([1,0,1,0])\n",
    "a+b"
   ]
  },
  {
   "cell_type": "code",
   "execution_count": 56,
   "id": "1a70cf5f-a608-4ca6-91b0-5e038bb4e7fb",
   "metadata": {},
   "outputs": [
    {
     "data": {
      "text/plain": [
       "array([25,  4, 16,  4])"
      ]
     },
     "execution_count": 56,
     "metadata": {},
     "output_type": "execute_result"
    }
   ],
   "source": [
    "a ** 2"
   ]
  },
  {
   "cell_type": "code",
   "execution_count": 57,
   "id": "91b98974-bcb9-440c-8f04-1004860263f2",
   "metadata": {},
   "outputs": [
    {
     "data": {
      "text/plain": [
       "array([-0.95892427,  0.90929743, -0.7568025 ,  0.90929743])"
      ]
     },
     "execution_count": 57,
     "metadata": {},
     "output_type": "execute_result"
    }
   ],
   "source": [
    "#Trignometry\n",
    "np.sin(a)"
   ]
  },
  {
   "cell_type": "code",
   "execution_count": 58,
   "id": "f5d1554c-4492-4611-a9e1-4e46fe99a115",
   "metadata": {},
   "outputs": [
    {
     "data": {
      "text/plain": [
       "array([ 0.28366219, -0.41614684, -0.65364362, -0.41614684])"
      ]
     },
     "execution_count": 58,
     "metadata": {},
     "output_type": "execute_result"
    }
   ],
   "source": [
    "np.cos(a)"
   ]
  },
  {
   "cell_type": "code",
   "execution_count": 59,
   "id": "8f72390a-5354-4605-8eec-27862f061ce3",
   "metadata": {},
   "outputs": [
    {
     "data": {
      "text/plain": [
       "array([1.55740772, 0.        , 1.55740772, 0.        ])"
      ]
     },
     "execution_count": 59,
     "metadata": {},
     "output_type": "execute_result"
    }
   ],
   "source": [
    "np.tan(b)"
   ]
  },
  {
   "cell_type": "markdown",
   "id": "1a4a8a77-c820-43bd-96a3-6d3ee502df49",
   "metadata": {},
   "source": [
    "### Linear Algebra ###"
   ]
  },
  {
   "cell_type": "code",
   "execution_count": 60,
   "id": "36677350-564e-4bda-9616-127692f28837",
   "metadata": {},
   "outputs": [
    {
     "name": "stdout",
     "output_type": "stream",
     "text": [
      "[[1. 1. 1.]\n",
      " [1. 1. 1.]]\n"
     ]
    }
   ],
   "source": [
    "#In order to multiply a matrix in linear algebra columns of first matrix and rows of 2nd matrix must be same and resultant is 2x2\n",
    "a = np.ones((2,3))\n",
    "print(a)"
   ]
  },
  {
   "cell_type": "code",
   "execution_count": 61,
   "id": "9e13b308-31fd-4191-a49e-f2d293803bd9",
   "metadata": {},
   "outputs": [
    {
     "name": "stdout",
     "output_type": "stream",
     "text": [
      "[[2 2]\n",
      " [2 2]\n",
      " [2 2]]\n"
     ]
    }
   ],
   "source": [
    "b = np.full((3,2),2)\n",
    "print(b)"
   ]
  },
  {
   "cell_type": "code",
   "execution_count": 62,
   "id": "8e3918c5-2a39-40d1-b4b1-c0b3bc6c7e33",
   "metadata": {},
   "outputs": [
    {
     "data": {
      "text/plain": [
       "array([[6., 6.],\n",
       "       [6., 6.]])"
      ]
     },
     "execution_count": 62,
     "metadata": {},
     "output_type": "execute_result"
    }
   ],
   "source": [
    "np.matmul(a,b)"
   ]
  },
  {
   "cell_type": "code",
   "execution_count": 63,
   "id": "0da7aa67-7537-476c-a42a-f9cf4e588a42",
   "metadata": {},
   "outputs": [
    {
     "data": {
      "text/plain": [
       "1.0"
      ]
     },
     "execution_count": 63,
     "metadata": {},
     "output_type": "execute_result"
    }
   ],
   "source": [
    "#Determinant of a Matrix\n",
    "c =  np.identity(3)\n",
    "np.linalg.det(c)"
   ]
  },
  {
   "cell_type": "code",
   "execution_count": 64,
   "id": "2df9a24e-1c53-4cf0-9918-10e3e2905557",
   "metadata": {},
   "outputs": [
    {
     "name": "stdout",
     "output_type": "stream",
     "text": [
      "Original Matrix: \n",
      "[[1 2]\n",
      " [3 4]]\n",
      "Inverse Matrix:\n",
      "[[-2.   1. ]\n",
      " [ 1.5 -0.5]]\n"
     ]
    }
   ],
   "source": [
    "#Inverse of a matrix\n",
    "i = np.array(\n",
    "    [\n",
    "        [1,2],\n",
    "        [3,4]\n",
    "    ]\n",
    ")\n",
    "i_inv = np.linalg.inv(i)\n",
    "print(\"Original Matrix: \")\n",
    "print(i)\n",
    "print(\"Inverse Matrix:\")\n",
    "print(i_inv)"
   ]
  },
  {
   "cell_type": "markdown",
   "id": "4cd30562-8d82-46c1-b26b-7ebba71c830c",
   "metadata": {},
   "source": [
    "### Statistics ###"
   ]
  },
  {
   "cell_type": "code",
   "execution_count": 65,
   "id": "4d68190a-a57b-4ca0-9599-a2b641d4c110",
   "metadata": {},
   "outputs": [
    {
     "data": {
      "text/plain": [
       "array([[1, 2, 3, 4],\n",
       "       [5, 6, 7, 8]])"
      ]
     },
     "execution_count": 65,
     "metadata": {},
     "output_type": "execute_result"
    }
   ],
   "source": [
    "stats = np.array([[1,2,3,4],[5,6,7,8]])\n",
    "stats"
   ]
  },
  {
   "cell_type": "code",
   "execution_count": 66,
   "id": "a8016ada-36f0-4005-9be0-8d4b1f72ccae",
   "metadata": {},
   "outputs": [
    {
     "data": {
      "text/plain": [
       "1"
      ]
     },
     "execution_count": 66,
     "metadata": {},
     "output_type": "execute_result"
    }
   ],
   "source": [
    "np.min(stats)"
   ]
  },
  {
   "cell_type": "code",
   "execution_count": 67,
   "id": "266eef6a-7d85-4050-9513-ee1d0117ec42",
   "metadata": {},
   "outputs": [
    {
     "data": {
      "text/plain": [
       "array([1, 5])"
      ]
     },
     "execution_count": 67,
     "metadata": {},
     "output_type": "execute_result"
    }
   ],
   "source": [
    "np.min(stats, axis=1) #minimum value from each row"
   ]
  },
  {
   "cell_type": "code",
   "execution_count": 68,
   "id": "3565867b-8b19-4267-8b8d-94141c39bb3e",
   "metadata": {},
   "outputs": [
    {
     "data": {
      "text/plain": [
       "8"
      ]
     },
     "execution_count": 68,
     "metadata": {},
     "output_type": "execute_result"
    }
   ],
   "source": [
    "np.max(stats)"
   ]
  },
  {
   "cell_type": "code",
   "execution_count": 69,
   "id": "de28020d-e07f-4eda-a5f9-afd4298bbcdb",
   "metadata": {},
   "outputs": [
    {
     "data": {
      "text/plain": [
       "36"
      ]
     },
     "execution_count": 69,
     "metadata": {},
     "output_type": "execute_result"
    }
   ],
   "source": [
    "np.sum(stats) #sums up all the element in the matrix"
   ]
  },
  {
   "cell_type": "code",
   "execution_count": 70,
   "id": "445190ff-5573-44b8-8917-76778065ea48",
   "metadata": {},
   "outputs": [
    {
     "data": {
      "text/plain": [
       "array([ 6,  8, 10, 12])"
      ]
     },
     "execution_count": 70,
     "metadata": {},
     "output_type": "execute_result"
    }
   ],
   "source": [
    "np.sum(stats,axis=0)"
   ]
  },
  {
   "cell_type": "markdown",
   "id": "27e11bb9-e5ed-4236-8ed4-ddb977df0f2f",
   "metadata": {},
   "source": [
    "### Reorganizing Arrays ###"
   ]
  },
  {
   "cell_type": "code",
   "execution_count": 71,
   "id": "6cdcc9b7-c63f-4efc-b9df-9241427e67d8",
   "metadata": {},
   "outputs": [
    {
     "name": "stdout",
     "output_type": "stream",
     "text": [
      "[[1 2 3 4]\n",
      " [5 6 7 8]]\n",
      "[[1 2]\n",
      " [3 4]\n",
      " [5 6]\n",
      " [7 8]]\n"
     ]
    }
   ],
   "source": [
    "#Used to convert previous array into new custom shape array like (2,4) can be converted into (2,2,2) or (4,2)\n",
    "before = np.array([[1,2,3,4,],[5,6,7,8]])\n",
    "print(before)\n",
    "\n",
    "after = before.reshape((4,2))\n",
    "print(after)\n"
   ]
  },
  {
   "cell_type": "code",
   "execution_count": 72,
   "id": "1f58ee50-76fd-4a75-8838-9da23397e4f5",
   "metadata": {},
   "outputs": [
    {
     "data": {
      "text/plain": [
       "array([[5, 6, 7, 8],\n",
       "       [1, 2, 3, 4],\n",
       "       [1, 2, 3, 4],\n",
       "       [5, 6, 7, 8],\n",
       "       [1, 2, 3, 4]])"
      ]
     },
     "execution_count": 72,
     "metadata": {},
     "output_type": "execute_result"
    }
   ],
   "source": [
    "#Vertically stacking vectors/matrices\n",
    "v1 = np.array([1,2,3,4])\n",
    "v2 = np.array([5,6,7,8])\n",
    "\n",
    "np.vstack([v1,v2])\n",
    "\n",
    "#little fancy\n",
    "np.vstack([v2,v1,v1,v2,v1])\n"
   ]
  },
  {
   "cell_type": "code",
   "execution_count": 73,
   "id": "e8be48d8-f606-47c7-a7eb-40153f9d2285",
   "metadata": {},
   "outputs": [
    {
     "data": {
      "text/plain": [
       "array([[0., 0., 0., 0., 1., 1.],\n",
       "       [0., 0., 0., 0., 1., 1.]])"
      ]
     },
     "execution_count": 73,
     "metadata": {},
     "output_type": "execute_result"
    }
   ],
   "source": [
    "#Horizontal Stacking\n",
    "h1 = np.zeros((2,4))\n",
    "h2 = np.ones((2,2))\n",
    "\n",
    "#h2 on back of h1\n",
    "np.hstack([h1,h2])\n"
   ]
  },
  {
   "cell_type": "markdown",
   "id": "98ba144e-a5a4-47ff-a455-14585b72449a",
   "metadata": {},
   "source": [
    "### Miscellaneous ###"
   ]
  },
  {
   "cell_type": "markdown",
   "id": "ff7c003e-1cf2-4f60-9753-2e38fa3e0e96",
   "metadata": {},
   "source": [
    "# Loading Data from File #"
   ]
  },
  {
   "cell_type": "code",
   "execution_count": 74,
   "id": "e03cd6ef-604b-472d-92e9-54fac64f1a98",
   "metadata": {},
   "outputs": [
    {
     "name": "stdout",
     "output_type": "stream",
     "text": [
      "[[  1  13  21  11 196  75   4   3  34   6   7   8   0   1   2   3   4   5]\n",
      " [  3  42  12  33 766  75   4  55   6   4   3   4   5   6   7   0  11  12]\n",
      " [  1  22  33  11 999  11   2   1  78   0   1   2   9   8   7   1  76  88]]\n"
     ]
    }
   ],
   "source": [
    "filedata = np.genfromtxt('practice_data.txt',delimiter=',')\n",
    "# np.shape(filedata)  => (3,18)\n",
    "\n",
    "filedata = filedata.astype('int32') #copy filedata variable values into int32 format\n",
    "\n",
    "print(filedata)\n"
   ]
  },
  {
   "cell_type": "code",
   "execution_count": 75,
   "id": "b3b2c783-15f6-43a6-be34-0fbc19ffe49b",
   "metadata": {},
   "outputs": [
    {
     "data": {
      "text/plain": [
       "11"
      ]
     },
     "execution_count": 75,
     "metadata": {},
     "output_type": "execute_result"
    }
   ],
   "source": [
    "filedata[2,3]"
   ]
  },
  {
   "cell_type": "markdown",
   "id": "ad121737-f7e7-4ac5-a2a1-07fb7def9eda",
   "metadata": {},
   "source": [
    "### Boolean Masking and Advance Indexing ###"
   ]
  },
  {
   "cell_type": "code",
   "execution_count": 76,
   "id": "ee48c373-5a1f-4175-bb1c-cd09db32ac7a",
   "metadata": {},
   "outputs": [
    {
     "data": {
      "text/plain": [
       "array([[False, False, False, False,  True,  True, False, False, False,\n",
       "        False, False, False, False, False, False, False, False, False],\n",
       "       [False, False, False, False,  True,  True, False,  True, False,\n",
       "        False, False, False, False, False, False, False, False, False],\n",
       "       [False, False, False, False,  True, False, False, False,  True,\n",
       "        False, False, False, False, False, False, False,  True,  True]])"
      ]
     },
     "execution_count": 76,
     "metadata": {},
     "output_type": "execute_result"
    }
   ],
   "source": [
    "#where in filedata value greater then 50 (can also do other comparison operators like <,<=,>=,!=)\n",
    "filedata >= 50"
   ]
  },
  {
   "cell_type": "code",
   "execution_count": 77,
   "id": "8a9049c9-ae40-4e35-87af-1881fd985a7d",
   "metadata": {},
   "outputs": [
    {
     "data": {
      "text/plain": [
       "array([196,  75, 766,  75,  55, 999,  78,  76,  88])"
      ]
     },
     "execution_count": 77,
     "metadata": {},
     "output_type": "execute_result"
    }
   ],
   "source": [
    "#Index based on greater then 50 (you get only those values that are greater then 50)\n",
    "filedata[filedata > 50]"
   ]
  },
  {
   "cell_type": "code",
   "execution_count": 78,
   "id": "7ca85458-c1b0-4e45-b79b-d27d4ff29108",
   "metadata": {},
   "outputs": [
    {
     "data": {
      "text/plain": [
       "array([2, 3, 9])"
      ]
     },
     "execution_count": 78,
     "metadata": {},
     "output_type": "execute_result"
    }
   ],
   "source": [
    "#Note: You can index with the list in Numpy\n",
    "a= np.array([1,2,3,4,5,6,7,8,9])\n",
    "a[[1,2,8]]"
   ]
  },
  {
   "cell_type": "code",
   "execution_count": 79,
   "id": "9f0a06ed-0d00-439d-9ad4-5312e3d01e06",
   "metadata": {},
   "outputs": [
    {
     "data": {
      "text/plain": [
       "array([ True,  True,  True])"
      ]
     },
     "execution_count": 79,
     "metadata": {},
     "output_type": "execute_result"
    }
   ],
   "source": [
    "np.any(filedata > 50, axis=1)"
   ]
  },
  {
   "cell_type": "code",
   "execution_count": 80,
   "id": "b47a23ab-0f3b-4c50-a6ea-0505bcfecd38",
   "metadata": {},
   "outputs": [
    {
     "data": {
      "text/plain": [
       "array([False, False, False, False,  True, False, False, False, False,\n",
       "       False, False, False, False, False, False, False, False, False])"
      ]
     },
     "execution_count": 80,
     "metadata": {},
     "output_type": "execute_result"
    }
   ],
   "source": [
    "np.all(filedata > 50, axis=0) #in axis= 0 it evaluates vertically downward and each row value must be greater then 50 to evalue to true"
   ]
  },
  {
   "cell_type": "code",
   "execution_count": 81,
   "id": "b0808230-3b73-4f54-be68-18bdbcdca7a9",
   "metadata": {},
   "outputs": [
    {
     "data": {
      "text/plain": [
       "array([ True,  True,  True])"
      ]
     },
     "execution_count": 81,
     "metadata": {},
     "output_type": "execute_result"
    }
   ],
   "source": [
    "np.any(filedata > 50, axis=1) #axis=1 it evaluates values according to columns considering values from all columns (left to righ)"
   ]
  },
  {
   "cell_type": "code",
   "execution_count": 82,
   "id": "9daff04d-f46b-4112-a231-6ce5ddcc5ef1",
   "metadata": {},
   "outputs": [
    {
     "data": {
      "text/plain": [
       "array([[False, False, False, False,  True, False, False, False, False,\n",
       "        False, False, False, False, False, False, False, False, False],\n",
       "       [False, False, False, False,  True, False, False, False, False,\n",
       "        False, False, False, False, False, False, False, False, False],\n",
       "       [False, False, False, False,  True, False, False, False, False,\n",
       "        False, False, False, False, False, False, False, False, False]])"
      ]
     },
     "execution_count": 82,
     "metadata": {},
     "output_type": "execute_result"
    }
   ],
   "source": [
    "((filedata > 50) & (filedata > 100))"
   ]
  },
  {
   "cell_type": "code",
   "execution_count": 83,
   "id": "66b5fc11-2d9a-47a4-a760-ababf61ad521",
   "metadata": {},
   "outputs": [
    {
     "name": "stdout",
     "output_type": "stream",
     "text": [
      "[1 1 1]\n"
     ]
    }
   ],
   "source": [
    "#fancy\n",
    "result = np.sum((filedata > 50) & (filedata > 100), axis=1)\n",
    "print(result)"
   ]
  },
  {
   "cell_type": "code",
   "execution_count": 84,
   "id": "286fc8a1-cd17-490f-aed6-2b097125e8f7",
   "metadata": {},
   "outputs": [
    {
     "data": {
      "text/plain": [
       "array([[ True,  True,  True,  True, False, False,  True,  True,  True,\n",
       "         True,  True,  True,  True,  True,  True,  True,  True,  True],\n",
       "       [ True,  True,  True,  True, False, False,  True, False,  True,\n",
       "         True,  True,  True,  True,  True,  True,  True,  True,  True],\n",
       "       [ True,  True,  True,  True, False,  True,  True,  True, False,\n",
       "         True,  True,  True,  True,  True,  True,  True, False, False]])"
      ]
     },
     "execution_count": 84,
     "metadata": {},
     "output_type": "execute_result"
    }
   ],
   "source": [
    "( ~( (filedata > 50) & (filedata > 50) ) ) #Not of result"
   ]
  }
 ],
 "metadata": {
  "kernelspec": {
   "display_name": "Python 3 (ipykernel)",
   "language": "python",
   "name": "python3"
  },
  "language_info": {
   "codemirror_mode": {
    "name": "ipython",
    "version": 3
   },
   "file_extension": ".py",
   "mimetype": "text/x-python",
   "name": "python",
   "nbconvert_exporter": "python",
   "pygments_lexer": "ipython3",
   "version": "3.10.5"
  }
 },
 "nbformat": 4,
 "nbformat_minor": 5
}
